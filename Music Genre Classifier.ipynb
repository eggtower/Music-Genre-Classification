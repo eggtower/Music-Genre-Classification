{
 "cells": [
  {
   "cell_type": "markdown",
   "id": "d2bc6283",
   "metadata": {},
   "source": [
    "Import library"
   ]
  },
  {
   "cell_type": "code",
   "execution_count": 1,
   "id": "6a5dcc20",
   "metadata": {},
   "outputs": [],
   "source": [
    "import os\n",
    "import json\n",
    "import numpy as np\n",
    "import pandas as pd\n",
    "import librosa\n",
    "import librosa.display\n",
    "import matplotlib.pyplot as plt\n",
    "from sklearn.model_selection import train_test_split\n",
    "import tensorflow as tf"
   ]
  },
  {
   "cell_type": "code",
   "execution_count": 2,
   "id": "5266a356",
   "metadata": {},
   "outputs": [],
   "source": [
    "directory = 'music'\n",
    "\n",
    "jsonPath = 'data.json'\n",
    "\n",
    "# sample rate\n",
    "sr = 22050\n",
    "\n",
    "totalSample = 29 * sr\n",
    "\n",
    "# slice the dataset into smaller pieces\n",
    "numSlices = 10\n",
    "samplePerSlice = int(totalSample/numSlices)"
   ]
  },
  {
   "cell_type": "markdown",
   "id": "4d3e155f",
   "metadata": {},
   "source": [
    "為了對音頻樣本進行分類，將通過計算它們的 MFCC 來對它們進行預處理，這是每個感知頻帶的能量的時間表示。\n",
    "\n",
    "在這種情況下，選擇了 13 個波段。\n",
    "\n",
    "除此之外，也計算出它們的 RMS(root-mean-square), ZCR(zero-crossing rate), spectral centroid, roll-off，作為特徵嘗試用來輔助訓練。"
   ]
  },
  {
   "cell_type": "code",
   "execution_count": 3,
   "id": "35b94733",
   "metadata": {},
   "outputs": [],
   "source": [
    "def preprocessData(directory, jsonPath):\n",
    "    processedData =  {\"labels\": [], \"mfcc\": [], \"rms\":[], \"zcr\":[], \"spectralCentroid\": [], \"rollOff\":[]}\n",
    "\n",
    "    for i, (dirpath, dirnames, filenames) in enumerate(os.walk(directory)):\n",
    "        for file in filenames:\n",
    "            song, sr = librosa.load(os.path.join(dirpath, file), duration=29)\n",
    "            for s in range(numSlices):\n",
    "                startTime = samplePerSlice * s\n",
    "                endTime = startTime + samplePerSlice\n",
    "                mfcc = librosa.feature.mfcc(y=song[startTime:endTime], sr=sr, n_mfcc=13)\n",
    "                # root-mean-square\n",
    "                rms = librosa.feature.rms(y=song[startTime:endTime])\n",
    "                # zero-crossing rate\n",
    "                zcr = librosa.feature.zero_crossing_rate(y=song[startTime:endTime])\n",
    "                # spectral centroid\n",
    "                spectralCentroid = librosa.feature.spectral_centroid(y=song[startTime:endTime], sr=sr)\n",
    "                # roll-off\n",
    "                rollOff = librosa.feature.spectral_rolloff(y=song[startTime:endTime], sr=sr)\n",
    "\n",
    "                mfcc = mfcc.T\n",
    "                rms = rms.T\n",
    "                zcr = zcr.T\n",
    "                spectralCentroid = spectralCentroid.T\n",
    "                rollOff = rollOff.T\n",
    "                melSpectrogram = melSpectrogram.T\n",
    "\n",
    "                processedData['labels'].append(i-1)\n",
    "                processedData['mfcc'].append(mfcc.tolist())\n",
    "                processedData['rms'].append(rms.tolist())\n",
    "                processedData['zcr'].append(zcr.tolist())\n",
    "                processedData['spectralCentroid'].append(spectralCentroid.tolist())\n",
    "                processedData['rollOff'].append(rollOff.tolist())\n",
    "\n",
    "    with open(jsonPath, 'w') as f:\n",
    "        json.dump(processedData, f)\n",
    "    f.close()"
   ]
  },
  {
   "cell_type": "markdown",
   "id": "92b03031",
   "metadata": {},
   "source": [
    "經過多次嘗試，以 MFCC 個別搭配 RMS, ZCR, spectral centroid, roll-off，訓練的準確率極差(皆約 10%±2%)，故最終模型訓練使用的特徵以 MFCC 的 13 個波段呈現。"
   ]
  },
  {
   "cell_type": "code",
   "execution_count": 4,
   "id": "e452584a",
   "metadata": {},
   "outputs": [],
   "source": [
    "def loadData(jsonPath):\n",
    "    with open(jsonPath, 'r') as f:\n",
    "        data = json.load(f)\n",
    "    f.close()\n",
    "    \n",
    "    mfcc = np.array(data['mfcc'])\n",
    "    rms = np.array(data['rms'])\n",
    "    zcr = np.array(data['zcr'])\n",
    "    spectralCentroid = np.array(data['spectralCentroid'])\n",
    "    rollOff = np.array(data['rollOff'])\n",
    "    \n",
    "#     features = [];\n",
    "#     for i in range(len(data['labels'])):\n",
    "#         features.append(np.hstack( (mfcc[0], rms[0]) ) )\n",
    "#         features.append(np.hstack( (mfcc[0], zcr[0],) ) )\n",
    "#         features.append(np.hstack( (mfcc[0], spectralCentroid[0]) ) )\n",
    "#         features.append(np.hstack( (mfcc[0], rollOff[0]) ) )\n",
    "    \n",
    "#     X = np.array(features)\n",
    "    Y = np.array(data['labels'])\n",
    "\n",
    "    return mfcc, Y"
   ]
  },
  {
   "cell_type": "markdown",
   "id": "77b0ae79",
   "metadata": {},
   "source": [
    "切割訓練資料與測試資料，train_size : test_size = 8 : 2\n",
    "\n",
    "其中，訓練資料又將被切分出訓練集與測試集 train : validation = 8 : 2"
   ]
  },
  {
   "cell_type": "code",
   "execution_count": 5,
   "id": "50fba2f2",
   "metadata": {},
   "outputs": [],
   "source": [
    "def makeTrainingData(X, Y, splitSize):\n",
    "    X_train, X_val, Y_train, Y_val = train_test_split(X, Y, test_size=splitSize)\n",
    "    X_train, X_test, Y_train, Y_test = train_test_split(X_train, Y_train, test_size=splitSize)\n",
    "    \n",
    "    X_train = X_train[..., np.newaxis]\n",
    "    X_val = X_val[..., np.newaxis]\n",
    "    X_test = X_test[..., np.newaxis]\n",
    "    \n",
    "    return X_train, X_val, X_test, Y_train, Y_val, Y_test"
   ]
  },
  {
   "cell_type": "markdown",
   "id": "ae821ea1",
   "metadata": {},
   "source": [
    "建構模型"
   ]
  },
  {
   "cell_type": "code",
   "execution_count": 6,
   "id": "b2a09796",
   "metadata": {},
   "outputs": [],
   "source": [
    "def modelBuilding(inputShape):\n",
    "    model = tf.keras.models.Sequential([\n",
    "        \n",
    "        tf.keras.layers.Conv2D(64, (3,3), activation='relu', input_shape=inputShape),\n",
    "        tf.keras.layers.MaxPooling2D((3,3), strides=(2,2), padding='same'),\n",
    "        tf.keras.layers.BatchNormalization(),\n",
    "        \n",
    "        tf.keras.layers.Conv2D(64, (3,3), activation='relu'),\n",
    "        tf.keras.layers.MaxPooling2D((3,3), strides=(2,2), padding='same'),\n",
    "        tf.keras.layers.BatchNormalization(),\n",
    "        \n",
    "        tf.keras.layers.Conv2D(32, (2,2), activation='relu'),\n",
    "        tf.keras.layers.MaxPooling2D((3,3), strides=(2,2), padding='same'),\n",
    "        tf.keras.layers.BatchNormalization(),\n",
    "        tf.keras.layers.Dropout(0.3),\n",
    "        \n",
    "        tf.keras.layers.Flatten(),\n",
    "        tf.keras.layers.Dense(64, activation='relu'), \n",
    "        tf.keras.layers.Dense(len(np.unique(Y)), activation='softmax')\n",
    "    ])\n",
    "\n",
    "    return model"
   ]
  },
  {
   "cell_type": "code",
   "execution_count": 7,
   "id": "ba978c37",
   "metadata": {},
   "outputs": [],
   "source": [
    "def plotPerformance(hist):\n",
    "    acc = hist.history['acc']\n",
    "    val_acc = hist.history['val_acc']\n",
    "    loss = hist.history['loss']\n",
    "    val_loss = hist.history['val_loss']\n",
    "    \n",
    "    epochs = range(len(acc))\n",
    "\n",
    "    plt.plot(epochs, acc, 'red', label='Training accuracy')\n",
    "    plt.plot(epochs, val_acc, 'blue', label='Validation accuracy')\n",
    "    plt.title('Training and validation accuracy')\n",
    "    plt.legend()\n",
    "    plt.figure()\n",
    "\n",
    "    plt.plot(epochs, loss, 'red', label='Training Loss')\n",
    "    plt.plot(epochs, val_loss, 'blue', label='Validation Loss')\n",
    "    plt.title('Training and validation loss')\n",
    "    plt.legend()\n",
    "\n",
    "    plt.show()"
   ]
  },
  {
   "cell_type": "code",
   "execution_count": 8,
   "id": "0eba5db6",
   "metadata": {},
   "outputs": [],
   "source": [
    "def modelPredict(model, X, y):\n",
    "    \n",
    "    predictions = model.predict(Xtest)\n",
    "    result = []\n",
    "    for i in predictions:\n",
    "        result.append(np.argmax(i));\n",
    "    result = np.array(result)\n",
    "    \n",
    "    correct = 0;\n",
    "    for i in range(len(YTest)):\n",
    "        correct += 1 if(result[i] == YTest[i]) else 0\n",
    "    print('accuracy: {0} ({1} / {2})'.format(correct/len(YTest), correct, len(YTest)))"
   ]
  },
  {
   "cell_type": "code",
   "execution_count": 9,
   "id": "eee9917f",
   "metadata": {},
   "outputs": [
    {
     "name": "stdout",
     "output_type": "stream",
     "text": [
      "Model: \"sequential\"\n",
      "_________________________________________________________________\n",
      " Layer (type)                Output Shape              Param #   \n",
      "=================================================================\n",
      " conv2d (Conv2D)             (None, 123, 11, 64)       640       \n",
      "                                                                 \n",
      " max_pooling2d (MaxPooling2D  (None, 62, 6, 64)        0         \n",
      " )                                                               \n",
      "                                                                 \n",
      " batch_normalization (BatchN  (None, 62, 6, 64)        256       \n",
      " ormalization)                                                   \n",
      "                                                                 \n",
      " conv2d_1 (Conv2D)           (None, 60, 4, 64)         36928     \n",
      "                                                                 \n",
      " max_pooling2d_1 (MaxPooling  (None, 30, 2, 64)        0         \n",
      " 2D)                                                             \n",
      "                                                                 \n",
      " batch_normalization_1 (Batc  (None, 30, 2, 64)        256       \n",
      " hNormalization)                                                 \n",
      "                                                                 \n",
      " conv2d_2 (Conv2D)           (None, 29, 1, 32)         8224      \n",
      "                                                                 \n",
      " max_pooling2d_2 (MaxPooling  (None, 15, 1, 32)        0         \n",
      " 2D)                                                             \n",
      "                                                                 \n",
      " batch_normalization_2 (Batc  (None, 15, 1, 32)        128       \n",
      " hNormalization)                                                 \n",
      "                                                                 \n",
      " dropout (Dropout)           (None, 15, 1, 32)         0         \n",
      "                                                                 \n",
      " flatten (Flatten)           (None, 480)               0         \n",
      "                                                                 \n",
      " dense (Dense)               (None, 64)                30784     \n",
      "                                                                 \n",
      " dense_1 (Dense)             (None, 10)                650       \n",
      "                                                                 \n",
      "=================================================================\n",
      "Total params: 77,866\n",
      "Trainable params: 77,546\n",
      "Non-trainable params: 320\n",
      "_________________________________________________________________\n",
      "Epoch 1/30\n",
      "100/100 [==============================] - 7s 12ms/step - loss: 1.4468 - acc: 0.4953 - val_loss: 3.5755 - val_acc: 0.2320\n",
      "Epoch 2/30\n",
      "100/100 [==============================] - 1s 10ms/step - loss: 1.0309 - acc: 0.6409 - val_loss: 1.2852 - val_acc: 0.5650\n",
      "Epoch 3/30\n",
      "100/100 [==============================] - 1s 9ms/step - loss: 0.8300 - acc: 0.7181 - val_loss: 0.9684 - val_acc: 0.6590\n",
      "Epoch 4/30\n",
      "100/100 [==============================] - 1s 10ms/step - loss: 0.7294 - acc: 0.7453 - val_loss: 0.7409 - val_acc: 0.7330\n",
      "Epoch 5/30\n",
      "100/100 [==============================] - 1s 10ms/step - loss: 0.6255 - acc: 0.7841 - val_loss: 0.8536 - val_acc: 0.7200\n",
      "Epoch 6/30\n",
      "100/100 [==============================] - 1s 10ms/step - loss: 0.5645 - acc: 0.8012 - val_loss: 0.7430 - val_acc: 0.7590\n",
      "Epoch 7/30\n",
      "100/100 [==============================] - 1s 10ms/step - loss: 0.5114 - acc: 0.8125 - val_loss: 0.9279 - val_acc: 0.7070\n",
      "Epoch 8/30\n",
      "100/100 [==============================] - 1s 10ms/step - loss: 0.4411 - acc: 0.8441 - val_loss: 0.7738 - val_acc: 0.7460\n",
      "Epoch 9/30\n",
      "100/100 [==============================] - 1s 10ms/step - loss: 0.3957 - acc: 0.8612 - val_loss: 0.6552 - val_acc: 0.7870\n",
      "Epoch 10/30\n",
      "100/100 [==============================] - 1s 10ms/step - loss: 0.3621 - acc: 0.8759 - val_loss: 0.6326 - val_acc: 0.8020\n",
      "Epoch 11/30\n",
      "100/100 [==============================] - 1s 10ms/step - loss: 0.3320 - acc: 0.8888 - val_loss: 0.7871 - val_acc: 0.7740\n",
      "Epoch 12/30\n",
      "100/100 [==============================] - 1s 10ms/step - loss: 0.3085 - acc: 0.8956 - val_loss: 0.7601 - val_acc: 0.7790\n",
      "Epoch 13/30\n",
      "100/100 [==============================] - 1s 10ms/step - loss: 0.2855 - acc: 0.8972 - val_loss: 0.5885 - val_acc: 0.8140\n",
      "Epoch 14/30\n",
      "100/100 [==============================] - 1s 10ms/step - loss: 0.2460 - acc: 0.9112 - val_loss: 0.5811 - val_acc: 0.8320\n",
      "Epoch 15/30\n",
      "100/100 [==============================] - 1s 10ms/step - loss: 0.2372 - acc: 0.9187 - val_loss: 0.6986 - val_acc: 0.7990\n",
      "Epoch 16/30\n",
      "100/100 [==============================] - 1s 11ms/step - loss: 0.2019 - acc: 0.9272 - val_loss: 0.5272 - val_acc: 0.8210\n",
      "Epoch 17/30\n",
      "100/100 [==============================] - 1s 10ms/step - loss: 0.2083 - acc: 0.9284 - val_loss: 0.6997 - val_acc: 0.8020\n",
      "Epoch 18/30\n",
      "100/100 [==============================] - 1s 10ms/step - loss: 0.1936 - acc: 0.9322 - val_loss: 0.6593 - val_acc: 0.8150\n",
      "Epoch 19/30\n",
      "100/100 [==============================] - 1s 11ms/step - loss: 0.1925 - acc: 0.9316 - val_loss: 0.6093 - val_acc: 0.8160\n",
      "Epoch 20/30\n",
      "100/100 [==============================] - 1s 10ms/step - loss: 0.1851 - acc: 0.9344 - val_loss: 0.5918 - val_acc: 0.8290\n",
      "Epoch 21/30\n",
      "100/100 [==============================] - 1s 11ms/step - loss: 0.1548 - acc: 0.9441 - val_loss: 0.7869 - val_acc: 0.7770\n",
      "Epoch 22/30\n",
      "100/100 [==============================] - 1s 10ms/step - loss: 0.1441 - acc: 0.9488 - val_loss: 0.6099 - val_acc: 0.8330\n",
      "Epoch 23/30\n",
      "100/100 [==============================] - 1s 10ms/step - loss: 0.1688 - acc: 0.9450 - val_loss: 0.6671 - val_acc: 0.8160\n",
      "Epoch 24/30\n",
      "100/100 [==============================] - 1s 10ms/step - loss: 0.1406 - acc: 0.9500 - val_loss: 0.7108 - val_acc: 0.8140\n",
      "Epoch 25/30\n",
      "100/100 [==============================] - 1s 10ms/step - loss: 0.1401 - acc: 0.9516 - val_loss: 0.7046 - val_acc: 0.7920\n",
      "Epoch 26/30\n",
      "100/100 [==============================] - 1s 10ms/step - loss: 0.1383 - acc: 0.9531 - val_loss: 0.6621 - val_acc: 0.8290\n",
      "Epoch 27/30\n",
      "100/100 [==============================] - 1s 10ms/step - loss: 0.1332 - acc: 0.9519 - val_loss: 0.4674 - val_acc: 0.8610\n",
      "Epoch 28/30\n",
      "100/100 [==============================] - 1s 10ms/step - loss: 0.1219 - acc: 0.9541 - val_loss: 0.6716 - val_acc: 0.8420\n",
      "Epoch 29/30\n",
      "100/100 [==============================] - 1s 10ms/step - loss: 0.1143 - acc: 0.9606 - val_loss: 0.6004 - val_acc: 0.8350\n",
      "Epoch 30/30\n",
      "100/100 [==============================] - 1s 10ms/step - loss: 0.1270 - acc: 0.9578 - val_loss: 0.6178 - val_acc: 0.8460\n"
     ]
    },
    {
     "data": {
      "image/png": "[encoded data removed]",
      "text/plain": [
       "<Figure size 432x288 with 1 Axes>"
      ]
     },
     "metadata": {
      "needs_background": "light"
     },
     "output_type": "display_data"
    },
    {
     "data": {
      "image/png": "[encoded data removed]",
      "text/plain": [
       "<Figure size 432x288 with 1 Axes>"
      ]
     },
     "metadata": {
      "needs_background": "light"
     },
     "output_type": "display_data"
    },
    {
     "name": "stdout",
     "output_type": "stream",
     "text": [
      "accuracy: 0.82625 (661 / 800)\n"
     ]
    }
   ],
   "source": [
    "if __name__ == \"__main__\":\n",
    "    preprocessData(directory, csvPath)\n",
    "    \n",
    "    X, Y = loadData(jsonPath)\n",
    "    \n",
    "    Xtrain, Xval, Xtest, Ytrain, Yval, YTest = makeTrainingData(X, Y, 0.2)\n",
    "    \n",
    "    inputShape = (Xtrain.shape[1], Xtrain.shape[2],1)\n",
    "    \n",
    "    model = modelBuilding(inputShape)\n",
    "    model.compile(optimizer = tf.keras.optimizers.RMSprop(learning_rate=0.001),\n",
    "                     loss='sparse_categorical_crossentropy',\n",
    "                     metrics = ['acc']\n",
    "                     )\n",
    "    model.summary()\n",
    "    \n",
    "    history = model.fit(Xtrain, Ytrain,\n",
    "                        validation_data=(Xval, Yval),\n",
    "                        epochs=30,\n",
    "                        batch_size=32\n",
    "                        )\n",
    "    plotPerformance(history)\n",
    "    \n",
    "    # 使用模型預測未經過訓練的測試資料\n",
    "    modelPredict(model, Xtest, YTest)"
   ]
  }
 ],
 "metadata": {
  "kernelspec": {
   "display_name": "Python 3 (ipykernel)",
   "language": "python",
   "name": "python3"
  },
  "language_info": {
   "codemirror_mode": {
    "name": "ipython",
    "version": 3
   },
   "file_extension": ".py",
   "mimetype": "text/x-python",
   "name": "python",
   "nbconvert_exporter": "python",
   "pygments_lexer": "ipython3",
   "version": "3.7.13"
  }
 },
 "nbformat": 4,
 "nbformat_minor": 5
}
